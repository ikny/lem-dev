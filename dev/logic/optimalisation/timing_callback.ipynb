{
 "cells": [
  {
   "cell_type": "markdown",
   "metadata": {},
   "source": [
    "# Identifying critical points of a callback function\n",
    "This is my current main function:\n",
    "\n",
    "```py\n",
    "    def main(self) -> None:\n",
    "        def callback(indata: npt.NDArray[DTYPE], outdata: npt.NDArray[DTYPE],\n",
    "                     frames: int, time: Any, status: sd.CallbackFlags) -> None:\n",
    "            if status:\n",
    "                print(status)\n",
    "\n",
    "            if not self._tracks_lock.locked():\n",
    "                tracks = self._tracks\n",
    "            else:\n",
    "                tracks = self._tracks_copy\n",
    "\n",
    "            if self._recording:\n",
    "                self._recorded_track = np.concatenate(\n",
    "                    [self._recorded_track, indata])\n",
    "\n",
    "            sliced_data = [indata]\n",
    "            # slice\n",
    "            for track in tracks:\n",
    "                start = self._current_frame % len(track)\n",
    "                end = (self._current_frame+frames) % len(track)\n",
    "                if end < start:\n",
    "                    track_slice = np.concatenate(\n",
    "                        (track[start:], track[:end]))\n",
    "                else:\n",
    "                    track_slice = track[start:end]\n",
    "                sliced_data.append(track_slice)\n",
    "\n",
    "            mixed_data = np.mean(a=sliced_data, axis=0)\n",
    "\n",
    "            outdata[:] = mixed_data\n",
    "\n",
    "            self._current_frame += frames\n",
    "\n",
    "        with sd.Stream(samplerate=SAMPLERATE, blocksize=BLOCKSIZE, dtype=STR_DTYPE,\n",
    "                       channels=CHANNELS, callback=callback) as stream:\n",
    "            while self._stream_active:\n",
    "                sleep(1)\n",
    "```\n",
    "Lets time it snippet by snippet."
   ]
  },
  {
   "cell_type": "markdown",
   "metadata": {},
   "source": [
    "## If status\n",
    "I will skip this one for now, as it is gonna be replaced by error handling soon."
   ]
  }
 ],
 "metadata": {
  "language_info": {
   "name": "python"
  }
 },
 "nbformat": 4,
 "nbformat_minor": 2
}
