{
 "cells": [
  {
   "cell_type": "markdown",
   "metadata": {},
   "source": [
    "# Timing ```04_record_loops``` using ```timeit``` module\n",
    "Firstly, lets initialize all the necessary variables, as that is not something I have to time:"
   ]
  },
  {
   "cell_type": "code",
   "execution_count": 3,
   "metadata": {},
   "outputs": [],
   "source": [
    "from typing import Any\n",
    "import numpy.typing as npt\n",
    "\n",
    "import sounddevice as sd\n",
    "import numpy as np\n",
    "import soundfile as sf\n",
    "import threading\n",
    "\n",
    "\n",
    "SAMPLERATE = 44100  # [samples per second]\n",
    "BLOCKSIZE = 1000  # [samples]\n",
    "DTYPE = np.int16\n",
    "STR_DTYPE = \"int16\"\n",
    "CHANNELS = 2\n",
    "LATENCY = 0\n",
    "\n",
    "METRONOME_SAMPLE_PATH = \"lib/samples/metronome.wav\"\n",
    "\n",
    "recording = False\n",
    "stream_active = True\n",
    "\n",
    "tracks: list[npt.NDArray[DTYPE]] = []\n",
    "recorded_track: npt.NDArray[DTYPE] = np.empty(shape=(0, CHANNELS), dtype=DTYPE)\n",
    "current_frame = 0\n",
    "len_beat: int  # number of samples per beat"
   ]
  },
  {
   "cell_type": "markdown",
   "metadata": {},
   "source": [
    "Next, lets analyze the functions in the program. There are three groups of functions:\n",
    "- ```metronome_generator``` and ```initialize_metronome```, which execute before the body of the program,\n",
    "- ```input_checker``` and ```post_production```, which execute in the input thread,\n",
    "-  ```main``` and ```callback```, which execute in the thread which is processing audio.\n",
    "\n",
    "As the first ones do not need to be timed, lets execute them now so the other ones can use the metronome sample."
   ]
  },
  {
   "cell_type": "markdown",
   "metadata": {},
   "source": []
  }
 ],
 "metadata": {
  "kernelspec": {
   "display_name": ".venv",
   "language": "python",
   "name": "python3"
  },
  "language_info": {
   "codemirror_mode": {
    "name": "ipython",
    "version": 3
   },
   "file_extension": ".py",
   "mimetype": "text/x-python",
   "name": "python",
   "nbconvert_exporter": "python",
   "pygments_lexer": "ipython3",
   "version": "3.10.12"
  }
 },
 "nbformat": 4,
 "nbformat_minor": 2
}
